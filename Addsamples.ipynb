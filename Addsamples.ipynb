{
 "cells": [
  {
   "cell_type": "code",
   "execution_count": 25,
   "metadata": {},
   "outputs": [],
   "source": [
    "import pickle\n",
    "import matplotlib.pyplot as plt\n",
    "import numpy as np\n",
    "import tensorflow as tf\n",
    "from PIL import Image\n",
    "\n",
    "import cv2 as cv\n",
    "import os\n",
    "%matplotlib inline"
   ]
  },
  {
   "cell_type": "code",
   "execution_count": 26,
   "metadata": {},
   "outputs": [],
   "source": [
    "ruta = 'dataset/data.pckl'\n",
    "File = open(ruta, 'rb')\n",
    "dat_X = pickle.load(File)\n",
    "dat_Y = pickle.load(File)\n",
    "File.close()\n",
    "del(File)"
   ]
  },
  {
   "cell_type": "code",
   "execution_count": 27,
   "metadata": {},
   "outputs": [],
   "source": [
    "Xt = dat_X.tolist()\n",
    "Yt = dat_Y.tolist()"
   ]
  },
  {
   "cell_type": "code",
   "execution_count": 28,
   "metadata": {},
   "outputs": [
    {
     "name": "stdout",
     "output_type": "stream",
     "text": [
      "Dimensión de X (259, 64, 64, 3)\n",
      "Dimensión de Y (259, 1)\n"
     ]
    }
   ],
   "source": [
    "print(\"Dimensión de X {}\".format(dat_X.shape))\n",
    "print(\"Dimensión de Y {}\".format(dat_Y.shape))"
   ]
  },
  {
   "cell_type": "code",
   "execution_count": 29,
   "metadata": {},
   "outputs": [],
   "source": [
    "intro='images/gatos/1 ('\n",
    "ext=').jpg'\n",
    "n_img = 7501\n",
    "for cont_imgs in range(n_img):\n",
    "    nombre = intro + str(cont_imgs+1) + ext\n",
    "    img = cv.imread(nombre,3)\n",
    "    img = cv.cvtColor(img, cv.COLOR_BGR2RGB)\n",
    "    ima = cv.resize(img,(64,64))\n",
    "    t=[1]\n",
    "    Xt.append(ima)\n",
    "    Yt.append(t)"
   ]
  },
  {
   "cell_type": "code",
   "execution_count": 30,
   "metadata": {},
   "outputs": [],
   "source": [
    "dat_X = np.array(Xt)\n",
    "dat_Y = np.array(Yt)"
   ]
  },
  {
   "cell_type": "code",
   "execution_count": 31,
   "metadata": {},
   "outputs": [
    {
     "name": "stdout",
     "output_type": "stream",
     "text": [
      "Dimensión de X (7760, 64, 64, 3)\n",
      "Dimensión de Y (7760, 1)\n"
     ]
    }
   ],
   "source": [
    "print(\"Dimensión de X {}\".format(dat_X.shape))\n",
    "print(\"Dimensión de Y {}\".format(dat_Y.shape))"
   ]
  },
  {
   "cell_type": "code",
   "execution_count": 32,
   "metadata": {},
   "outputs": [],
   "source": [
    "File = open(ruta, 'wb')\n",
    "pickle.dump(dat_X,File) \n",
    "pickle.dump(dat_Y,File)\n",
    "File.close()\n",
    "del(File)"
   ]
  },
  {
   "cell_type": "markdown",
   "metadata": {},
   "source": [
    "# No Gatos"
   ]
  },
  {
   "cell_type": "code",
   "execution_count": 33,
   "metadata": {},
   "outputs": [],
   "source": [
    "intro='images/no_gatos/2 ('\n",
    "ext=').jpg'\n",
    "n_img = 5267\n",
    "for cont_imgs in range(n_img):\n",
    "    nombre = intro + str(cont_imgs+1) + ext\n",
    "    img = cv.imread(nombre,3)\n",
    "    img = cv.cvtColor(img, cv.COLOR_BGR2RGB)\n",
    "    ima = cv.resize(img,(64,64))\n",
    "    t=[0]\n",
    "    Xt.append(ima)\n",
    "    Yt.append(t)"
   ]
  },
  {
   "cell_type": "code",
   "execution_count": 34,
   "metadata": {},
   "outputs": [],
   "source": [
    "dat_X = np.array(Xt)\n",
    "dat_Y = np.array(Yt)"
   ]
  },
  {
   "cell_type": "code",
   "execution_count": 35,
   "metadata": {},
   "outputs": [
    {
     "name": "stdout",
     "output_type": "stream",
     "text": [
      "Dimensión de X (13027, 64, 64, 3)\n",
      "Dimensión de Y (13027, 1)\n"
     ]
    }
   ],
   "source": [
    "print(\"Dimensión de X {}\".format(dat_X.shape))\n",
    "print(\"Dimensión de Y {}\".format(dat_Y.shape))"
   ]
  },
  {
   "cell_type": "code",
   "execution_count": 36,
   "metadata": {},
   "outputs": [],
   "source": [
    "File = open(ruta, 'wb')\n",
    "pickle.dump(dat_X,File) \n",
    "pickle.dump(dat_Y,File)\n",
    "File.close()\n",
    "del(File)"
   ]
  },
  {
   "cell_type": "code",
   "execution_count": 97,
   "metadata": {
    "scrolled": true
   },
   "outputs": [
    {
     "data": {
      "text/plain": [
       "array([[[178, 218, 226],\n",
       "        [176, 216, 224],\n",
       "        [173, 213, 221],\n",
       "        ...,\n",
       "        [176, 214, 225],\n",
       "        [180, 218, 229],\n",
       "        [183, 221, 232]],\n",
       "\n",
       "       [[179, 219, 227],\n",
       "        [178, 218, 226],\n",
       "        [177, 217, 225],\n",
       "        ...,\n",
       "        [186, 223, 232],\n",
       "        [185, 221, 233],\n",
       "        [183, 220, 229]],\n",
       "\n",
       "       [[167, 210, 217],\n",
       "        [168, 211, 218],\n",
       "        [172, 212, 220],\n",
       "        ...,\n",
       "        [196, 229, 238],\n",
       "        [191, 221, 232],\n",
       "        [184, 214, 224]],\n",
       "\n",
       "       ...,\n",
       "\n",
       "       [[ 54, 172, 186],\n",
       "        [ 53, 171, 185],\n",
       "        [ 52, 170, 184],\n",
       "        ...,\n",
       "        [  9, 149, 174],\n",
       "        [  8, 148, 173],\n",
       "        [  8, 148, 173]],\n",
       "\n",
       "       [[ 43, 165, 180],\n",
       "        [ 43, 165, 180],\n",
       "        [ 44, 166, 181],\n",
       "        ...,\n",
       "        [  6, 144, 172],\n",
       "        [  6, 144, 172],\n",
       "        [  5, 143, 171]],\n",
       "\n",
       "       [[ 36, 159, 174],\n",
       "        [ 37, 160, 175],\n",
       "        [ 39, 162, 177],\n",
       "        ...,\n",
       "        [  7, 142, 171],\n",
       "        [  6, 141, 170],\n",
       "        [  6, 141, 170]]], dtype=uint8)"
      ]
     },
     "execution_count": 97,
     "metadata": {},
     "output_type": "execute_result"
    }
   ],
   "source": [
    "Yt.pop(259)\n",
    "Xt.pop(259)"
   ]
  },
  {
   "cell_type": "code",
   "execution_count": null,
   "metadata": {},
   "outputs": [],
   "source": [
    "X=np.array(np.reshape(dat_X, (a, 12288), order='F'))"
   ]
  },
  {
   "cell_type": "code",
   "execution_count": null,
   "metadata": {},
   "outputs": [],
   "source": []
  },
  {
   "cell_type": "code",
   "execution_count": 40,
   "metadata": {},
   "outputs": [
    {
     "name": "stdout",
     "output_type": "stream",
     "text": [
      "Esta etiquetado como un:[0]\n"
     ]
    },
    {
     "data": {
      "image/png": "[encoded data removed]",
      "text/plain": [
       "<Figure size 432x288 with 1 Axes>"
      ]
     },
     "metadata": {},
     "output_type": "display_data"
    }
   ],
   "source": [
    "nIma = 49\n",
    "im = Xt[nIma];\n",
    "plt.imshow(im[:], cmap = 'gray')\n",
    "plt.xticks([]), plt.yticks([])  # to hide tick values on X and Y axis\n",
    "print('Esta etiquetado como un:{}'.format(Yt[nIma]))"
   ]
  },
  {
   "cell_type": "code",
   "execution_count": null,
   "metadata": {},
   "outputs": [],
   "source": []
  }
 ],
 "metadata": {
  "kernelspec": {
   "display_name": "Python 3",
   "language": "python",
   "name": "python3"
  },
  "language_info": {
   "codemirror_mode": {
    "name": "ipython",
    "version": 3
   },
   "file_extension": ".py",
   "mimetype": "text/x-python",
   "name": "python",
   "nbconvert_exporter": "python",
   "pygments_lexer": "ipython3",
   "version": "3.7.4"
  }
 },
 "nbformat": 4,
 "nbformat_minor": 2
}
