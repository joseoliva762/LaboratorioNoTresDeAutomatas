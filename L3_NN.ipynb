{
 "cells": [
  {
   "cell_type": "markdown",
   "metadata": {},
   "source": [
    "## Laboratorio 3\n",
    "- La práctica consiste en diseñar una red neuronal que permita clasificar imagenes que contienen gatos. El objetivo es encontrar un buen rendimiento del sistema.\n",
    "- El sistema se debe evaluar con los parametros obenidos por la matriz de confusión tales como accuracy, tasa de error,  sencibildad, especificidad, precisión, VPN\n"
   ]
  },
  {
   "cell_type": "code",
   "execution_count": 231,
   "metadata": {},
   "outputs": [],
   "source": [
    "import pandas as pd\n",
    "import matplotlib.pyplot as plt\n",
    "import numpy as np\n",
    "import tensorflow as tf\n",
    "from sklearn.preprocessing import OneHotEncoder\n",
    "from sklearn.model_selection import train_test_split as tts\n",
    "import cv2 as cv\n",
    "\n",
    "import os\n",
    "from sklearn.utils import shuffle\n",
    "\n",
    "import pickle\n",
    "\n",
    "from sklearn import metrics\n",
    "import seaborn as sns\n",
    "%matplotlib inline"
   ]
  },
  {
   "cell_type": "code",
   "execution_count": 232,
   "metadata": {},
   "outputs": [],
   "source": [
    "def charge_dataset(ruta):\n",
    "    File = open(ruta, 'rb')\n",
    "    data_x_tmp = pickle.load(File)\n",
    "    data_y = pickle.load(File)\n",
    "    File.close()\n",
    "    del(File)\n",
    "    return data_x_tmp, data_y\n",
    "\n",
    "def show_img(data_x_tmp, data_y, index_img=255):   \n",
    "    plt.imshow(data_x_tmp[index_img])\n",
    "    if data_y[index_img, 0]:\n",
    "        print (\">>> La imgen No. {} del conjunto Esta etiquetado como gato.\".format(index_img))\n",
    "    else:\n",
    "        print (\">>> La imgen No. {} del conjunto NO esta etiquetado como gato\".format(index_img))\n",
    "\n",
    "def get_new_colmns(data_x_tmp):\n",
    "    new_colmns = 1\n",
    "    for i in range(3):\n",
    "        new_colmns *= data_x_tmp.shape[i+1]\n",
    "    return new_colmns\n",
    "\n",
    "def  x_reshape_and_normalize(data_x_tmp):\n",
    "    rows = data_x_tmp.shape[0]\n",
    "    new_colmns = get_new_colmns(data_x_tmp)\n",
    "    data_x = data_x_tmp.reshape((rows,new_colmns))\n",
    "    colmns = data_x.shape[1]\n",
    "    print(\"Nuevas dimensiónes de X {}\".format(data_x.shape))\n",
    "    print('\\n>>> Datos de X sin normalizar: \\r\\n {}\\n'.format(data_x))\n",
    "    # Normalizamos los datos.\n",
    "    data_x = data_x/255 \n",
    "    print('>>> Datos de X normalizados: \\r\\n {}\\n'.format(data_x))\n",
    "    return data_x, rows, colmns"
   ]
  },
  {
   "cell_type": "code",
   "execution_count": 233,
   "metadata": {},
   "outputs": [],
   "source": [
    "# Obtencion y normalizacion de datos\n",
    "ruta = ('dataset/data.pckl')\n",
    "index_img = 20  ### Se puede cambiar el indice (0-258)\n",
    "def dataset_init(ruta, index_img):\n",
    "    data_x_tmp, data_y = charge_dataset(ruta)\n",
    "    print(\"Dimensión de X {}\".format(data_x_tmp.shape))\n",
    "    print(\"Dimensión de Y {}\".format(data_y.shape))\n",
    "    show_img(data_x_tmp, data_y, index_img)\n",
    "    data_x, rows, colmns = x_reshape_and_normalize(data_x_tmp)\n",
    "    return data_x, data_y, rows, colmns"
   ]
  },
  {
   "cell_type": "markdown",
   "metadata": {},
   "source": [
    "- dat_X es un tensor de 4 dimenciones, el cual tiene información de 259 imagenes de 64 pixeles por 64 pixeles y tres capas (RGB)\n",
    "- dat_Y es un vector columna de 259 posiciones que contiene las etiquetas (labels) de las imagenes contenidas en dat_X, (1: Es gato, 0: No es gato)"
   ]
  },
  {
   "cell_type": "markdown",
   "metadata": {},
   "source": [
    "## Recomendaciones\n",
    "- Ajustar los datos a la forma como se han venido trabajando en clase (Matriz de 259 x 12288) ayudarse de la función \"reshape\"\" de numpy\n",
    "- Normalizar los datos entre 0-1 (Las imagenes estan entre 0-255), basicamente es dividir los datos de X en 255\n",
    "- Debido a que el conjunto de entrenamiento es reducido, se recomienda hacer validación cruzada al momento de entrenar y validar.\n",
    "- Se puede mejorar el sistema incluyendo al conjunto de datos nuevas imagenes, tener en cuenta que las imagenes deben ser de tamaño (64*64*3), se pueden ayudar de la función \"imresize\" de paquetes como scipy, cv2\n",
    "- Tener por lo menos dos capas ocultas."
   ]
  },
  {
   "cell_type": "code",
   "execution_count": 234,
   "metadata": {},
   "outputs": [
    {
     "name": "stdout",
     "output_type": "stream",
     "text": [
      "Dimensión de X (13027, 64, 64, 3)\n",
      "Dimensión de Y (13027, 1)\n",
      ">>> La imgen No. 20 del conjunto NO esta etiquetado como gato\n",
      "Nuevas dimensiónes de X (13027, 12288)\n",
      "\n",
      ">>> Datos de X sin normalizar: \n",
      " [[ 17  31  56 ...   0   0   0]\n",
      " [196 192 190 ...  82  80  81]\n",
      " [ 82  71  68 ... 138 141 142]\n",
      " ...\n",
      " [ 46  46  48 ... 247 243 244]\n",
      " [ 96  96  96 ...  58  58  58]\n",
      " [128 153 150 ... 156 140 114]]\n",
      "\n",
      ">>> Datos de X normalizados: \n",
      " [[0.06666667 0.12156863 0.21960784 ... 0.         0.         0.        ]\n",
      " [0.76862745 0.75294118 0.74509804 ... 0.32156863 0.31372549 0.31764706]\n",
      " [0.32156863 0.27843137 0.26666667 ... 0.54117647 0.55294118 0.55686275]\n",
      " ...\n",
      " [0.18039216 0.18039216 0.18823529 ... 0.96862745 0.95294118 0.95686275]\n",
      " [0.37647059 0.37647059 0.37647059 ... 0.22745098 0.22745098 0.22745098]\n",
      " [0.50196078 0.6        0.58823529 ... 0.61176471 0.54901961 0.44705882]]\n",
      "\n"
     ]
    },
    {
     "data": {
      "image/png": "[encoded data removed]",
      "text/plain": [
       "<Figure size 432x288 with 1 Axes>"
      ]
     },
     "metadata": {
      "needs_background": "light"
     },
     "output_type": "display_data"
    }
   ],
   "source": [
    "# Obtengo mis datos\n",
    "data_x, data_y_tmp, rows, colmns = dataset_init(ruta, index_img)"
   ]
  },
  {
   "cell_type": "code",
   "execution_count": 235,
   "metadata": {},
   "outputs": [
    {
     "name": "stderr",
     "output_type": "stream",
     "text": [
      "C:\\Users\\joseo\\Anaconda3\\envs\\automatas\\lib\\site-packages\\sklearn\\preprocessing\\_encoders.py:415: FutureWarning: The handling of integer data will change in version 0.22. Currently, the categories are determined based on the range [0, max(values)], while in the future they will be determined based on the unique values.\n",
      "If you want the future behaviour and silence this warning, you can specify \"categories='auto'\".\n",
      "In case you used a LabelEncoder before this OneHotEncoder to convert the categories to integers, then you can now use the OneHotEncoder directly.\n",
      "  warnings.warn(msg, FutureWarning)\n"
     ]
    },
    {
     "name": "stdout",
     "output_type": "stream",
     "text": [
      "[1. 0.]\n"
     ]
    }
   ],
   "source": [
    "number_img = 10\n",
    "oneHot = OneHotEncoder()\n",
    "oneHot.fit(data_y_tmp)\n",
    "data_y = oneHot.transform(data_y_tmp).toarray()\n",
    "print(data_y[number_img,:])"
   ]
  },
  {
   "cell_type": "code",
   "execution_count": 236,
   "metadata": {},
   "outputs": [
    {
     "name": "stdout",
     "output_type": "stream",
     "text": [
      "Train:(11724, 12288), Test (1303, 12288)\n"
     ]
    }
   ],
   "source": [
    "# Realizamos el split de los datos\n",
    "X_train, X_test, Y_train, Y_test = tts(data_x, data_y, test_size=0.1, random_state=None) \n",
    "print('Train:{}, Test {}'.format(X_train.shape,X_test.shape))"
   ]
  },
  {
   "cell_type": "code",
   "execution_count": 237,
   "metadata": {},
   "outputs": [
    {
     "name": "stdout",
     "output_type": "stream",
     "text": [
      "10\n"
     ]
    }
   ],
   "source": [
    "# Cargamos los Hiparparametros\n",
    "samples = np.shape(X_train)[0]\n",
    "#learning_rate = 0.0001\n",
    "learning_rate = 0.00009\n",
    "num_epochs = 1000\n",
    "display_step = 10\n",
    "batch_size = int(samples*0.1)\n",
    "number_batch = int(samples//batch_size) \n",
    "hidden_layer_size = 200        # Número de neuronas en capa oculta\n",
    "n_char = np.shape(X_train)[1]    # Número de cararcteristicas\n",
    "n_class = np.shape(Y_train)[1]   # Número de clases\n",
    "print(number_batch)"
   ]
  },
  {
   "cell_type": "code",
   "execution_count": 238,
   "metadata": {},
   "outputs": [],
   "source": [
    "# Iniciamos las variables y los Place Holders\n",
    "tf.reset_default_graph()\n",
    "X_ph = tf.placeholder(tf.float32, [batch_size, n_char])\n",
    "Y_ph = tf.placeholder(tf.float32, [batch_size, n_class])"
   ]
  },
  {
   "cell_type": "code",
   "execution_count": 239,
   "metadata": {
    "scrolled": true
   },
   "outputs": [],
   "source": [
    "# definimos la estructura (HIpotesis) del modelo\n",
    "weight_1 = tf.get_variable(\"weight_1\",[n_char, hidden_layer_size])\n",
    "bias_1 = tf.get_variable(\"bias_1\",[hidden_layer_size])\n",
    "logits_2 = tf.matmul(X_ph, weight_1) + bias_1\n",
    "activation_2 = tf.nn.relu(logits_2)\n",
    "\n",
    "weight_2 = tf.get_variable(\"weight_2\",[hidden_layer_size, hidden_layer_size])\n",
    "bias_2 = tf.get_variable(\"bias_2\",[hidden_layer_size])\n",
    "logits_3 = tf.matmul(activation_2, weight_2) + bias_2\n",
    "activation_3 = tf.nn.tanh(logits_3)\n",
    "\n",
    "weight_3 = tf.get_variable(\"weight_3\",[hidden_layer_size, hidden_layer_size])\n",
    "bias_3 = tf.get_variable(\"bias_3\",[hidden_layer_size])\n",
    "logits_4 = tf.matmul(activation_3, weight_3) + bias_3\n",
    "activation_4 = tf.nn.relu(logits_4)\n",
    "\n",
    "weight_4 = tf.get_variable(\"weight_4\",[hidden_layer_size, hidden_layer_size])\n",
    "bias_4 = tf.get_variable(\"bias_4\",[hidden_layer_size])\n",
    "logits_5 = tf.matmul(activation_4, weight_4) + bias_4\n",
    "activation_5 = tf.nn.tanh(logits_5)\n",
    "\n",
    "weight_f = tf.get_variable(\"weight_f\",[hidden_layer_size, n_class])\n",
    "bias_f = tf.get_variable(\"bias_f\",[n_class])\n",
    "logits = tf.add(tf.matmul(activation_5, weight_f),bias_f)\n",
    "y_ = tf.nn.relu(logits)\n",
    "\n",
    "prediccion = tf.equal(tf.argmax(y_, 1), tf.argmax(Y_ph, 1))"
   ]
  },
  {
   "cell_type": "code",
   "execution_count": 240,
   "metadata": {},
   "outputs": [
    {
     "name": "stdout",
     "output_type": "stream",
     "text": [
      "(12288, 200), (1172, 12288)\n"
     ]
    }
   ],
   "source": [
    "print('{}, {}'.format(weight_1.shape, X_ph.shape))"
   ]
  },
  {
   "cell_type": "code",
   "execution_count": 241,
   "metadata": {
    "scrolled": true
   },
   "outputs": [],
   "source": [
    "# Calculamos la funcion de costo.\n",
    "J = tf.nn.sigmoid_cross_entropy_with_logits(labels=Y_ph, logits=logits)\n",
    "mean_J = tf.reduce_mean(J)\n",
    "optimizer = tf.train.AdamOptimizer(learning_rate=learning_rate).minimize(mean_J)\n",
    "#optimizer = tf.train.GradientDescentOptimizer(learning_rate=learning_rate).minimize(mean_J)\n",
    "\n",
    "accuracy = tf.reduce_mean(tf.cast(prediccion, tf.float32))\n",
    "saver = tf.train.Saver()"
   ]
  },
  {
   "cell_type": "code",
   "execution_count": 242,
   "metadata": {
    "scrolled": true
   },
   "outputs": [
    {
     "name": "stdout",
     "output_type": "stream",
     "text": [
      "Epoch: 10 train_cost=0.4349 validation_cost=0.4612 validation_accuracy=80.29%\n",
      "Epoch: 20 train_cost=0.3653 validation_cost=0.3996 validation_accuracy=82.85%\n",
      "Epoch: 30 train_cost=0.3291 validation_cost=0.2960 validation_accuracy=87.46%\n",
      "Epoch: 40 train_cost=0.2417 validation_cost=0.2343 validation_accuracy=90.70%\n",
      "Epoch: 50 train_cost=0.1858 validation_cost=0.1589 validation_accuracy=94.28%\n",
      "Epoch: 60 train_cost=0.1506 validation_cost=0.2548 validation_accuracy=89.68%\n",
      "Epoch: 70 train_cost=0.1076 validation_cost=0.0888 validation_accuracy=97.87%\n",
      "Epoch: 80 train_cost=0.1709 validation_cost=0.0966 validation_accuracy=97.10%\n",
      "Epoch: 90 train_cost=0.0594 validation_cost=0.0600 validation_accuracy=98.55%\n",
      "Epoch: 100 train_cost=0.0428 validation_cost=0.0428 validation_accuracy=98.89%\n",
      "Entrenamiento Finalizado\n"
     ]
    }
   ],
   "source": [
    "increm_control = 0\n",
    "break_out = 5\n",
    "train_cost = []\n",
    "validation_cost = []\n",
    "prev_validation_accuracy = 0\n",
    "with tf.name_scope(\"starting_tensorflow_session\"):\n",
    "    with tf.Session() as sess:\n",
    "        sess.run(tf.global_variables_initializer())\n",
    "        cont = 0\n",
    "        for epoch in range(num_epochs):\n",
    "            X_tmp, Y_tmp = shuffle(X_train, Y_train)\n",
    "            for batch in range(number_batch-1):\n",
    "                b_x = X_tmp[batch*batch_size:(batch+1)*batch_size]\n",
    "                b_y = Y_tmp[batch*batch_size:(batch+1)*batch_size]\n",
    "                _, t_cost = sess.run([optimizer, mean_J], feed_dict={X_ph: b_x, Y_ph: b_y})\n",
    "                train_cost.append(t_cost)                \n",
    "            batch = batch + 1\n",
    "            b_x = X_tmp[batch*batch_size:(batch+1)*batch_size]\n",
    "            b_y = Y_tmp[batch*batch_size:(batch+1)*batch_size]\n",
    "            v_cost, v_accuracy = sess.run([mean_J, accuracy], feed_dict={X_ph: b_x, Y_ph: b_y})\n",
    "            validation_cost.append(v_cost)         \n",
    "            if (epoch+1) % display_step == 0:\n",
    "                print(\"Epoch: {}\".format(epoch + 1), \"train_cost={:0.4f}\".format(t_cost), \n",
    "                      \"validation_cost={:0.4f}\".format(v_cost), \"validation_accuracy={:0.2f}%\".format(v_accuracy*100))\n",
    "            if t_cost < 0.1:\n",
    "                increm_control += 1\n",
    "            if increm_control == 5:\n",
    "                break_out = 3\n",
    "    \n",
    "            if v_accuracy <= prev_validation_accuracy:\n",
    "                cont = cont+1;\n",
    "            else:\n",
    "                cont = 0\n",
    "            if cont > break_out:\n",
    "                break\n",
    "            prev_validation_accuracy = v_accuracy\n",
    "        print('Entrenamiento Finalizado')\n",
    "        saver.save(sess, os.getcwd()+\"/modelo2.ckpt\")        "
   ]
  },
  {
   "cell_type": "markdown",
   "metadata": {},
   "source": [
    "\n",
    "\n",
    "# Test"
   ]
  },
  {
   "cell_type": "markdown",
   "metadata": {},
   "source": [
    "#### Apartir de aqui corre el test\n",
    "     - Falta corregir errores en la redaccion.\n",
    "     - Modularizar la hipotesis."
   ]
  },
  {
   "cell_type": "code",
   "execution_count": 243,
   "metadata": {
    "scrolled": false
   },
   "outputs": [
    {
     "name": "stdout",
     "output_type": "stream",
     "text": [
      "(?, ?)\n"
     ]
    }
   ],
   "source": [
    "tf.reset_default_graph()\n",
    "X_ph = tf.placeholder(tf.float32, [None, n_char])\n",
    "Y_ph = tf.placeholder(tf.float32, [None, n_class])\n",
    "\n",
    "weight_1 = tf.get_variable(\"weight_1\",[n_char, hidden_layer_size])\n",
    "bias_1 = tf.get_variable(\"bias_1\",[hidden_layer_size])\n",
    "logits_2 = tf.matmul(X_ph, weight_1) + bias_1\n",
    "activation_2 = tf.nn.relu(logits_2)\n",
    "\n",
    "weight_2 = tf.get_variable(\"weight_2\",[hidden_layer_size, hidden_layer_size])\n",
    "bias_2 = tf.get_variable(\"bias_2\",[hidden_layer_size])\n",
    "logits_3 = tf.matmul(activation_2, weight_2) + bias_2\n",
    "activation_3 = tf.nn.tanh(logits_3)\n",
    "\n",
    "weight_3 = tf.get_variable(\"weight_3\",[hidden_layer_size, hidden_layer_size])\n",
    "bias_3 = tf.get_variable(\"bias_3\",[hidden_layer_size])\n",
    "logits_4 = tf.matmul(activation_3, weight_3) + bias_3\n",
    "activation_4 = tf.nn.relu(logits_4)\n",
    "\n",
    "weight_4 = tf.get_variable(\"weight_4\",[hidden_layer_size, hidden_layer_size])\n",
    "bias_4 = tf.get_variable(\"bias_4\",[hidden_layer_size])\n",
    "logits_5 = tf.matmul(activation_4, weight_4) + bias_4\n",
    "activation_5 = tf.nn.tanh(logits_5)\n",
    "\n",
    "weight_f = tf.get_variable(\"weight_f\",[hidden_layer_size, n_class])\n",
    "bias_f = tf.get_variable(\"bias_f\",[n_class])\n",
    "logits = tf.add(tf.matmul(activation_5, weight_f),bias_f)\n",
    "y_ = tf.nn.relu(logits)\n",
    "\n",
    "\n",
    "predice = tf.argmax(y_, 1)\n",
    "prediccion = tf.equal(tf.argmax(y_, 1), tf.argmax(Y_ph, 1))\n",
    "accuracy = tf.reduce_mean(tf.cast(prediccion, tf.float32))\n",
    "conf_matrix = tf.confusion_matrix(tf.argmax(y_, 1), tf.argmax(Y_ph, 1))\n",
    "print(conf_matrix.shape)\n",
    "#saver = tf.train.Saver()\n",
    "#with tf.Session() as sess:\n",
    " #   saver.restore(sess, os.getcwd()+\"/modelo2.ckpt\")\n",
    " #   test_accuracy = sess.run([accuracy], feed_dict={X_ph: X_test, Y_ph: Y_test})\n",
    " #   test_accuracy_percent = test_accuracy[0] * 100.\n",
    " #   print('Test accuracy: '+'{0:.2f}'.format(test_accuracy_percent)+'%')\n",
    " #   predice = sess.run([predice], feed_dict={X_ph: X_test, Y_ph: Y_test}) \n",
    " #   conf_mat = sess.run([conf_matrix ], feed_dict={X_ph: X_test, Y_ph: Y_test})\n",
    "#    print(conf_mat[0])"
   ]
  },
  {
   "cell_type": "code",
   "execution_count": 244,
   "metadata": {},
   "outputs": [
    {
     "name": "stdout",
     "output_type": "stream",
     "text": [
      "Test accuracy: 90.64%\n",
      "[[423  48]\n",
      " [ 74 758]]\n"
     ]
    }
   ],
   "source": [
    "saver = tf.train.Saver()\n",
    "with tf.Session() as sess:\n",
    "    saver.restore(sess, os.getcwd()+\"/modelo2.ckpt\")\n",
    "    test_accuracy = sess.run([accuracy], feed_dict={X_ph: X_test, Y_ph: Y_test})\n",
    "    test_accuracy_percent = test_accuracy[0] * 100.\n",
    "    print('Test accuracy: '+'{0:.2f}'.format(test_accuracy_percent)+'%')\n",
    "    predice = sess.run([predice], feed_dict={X_ph: X_test, Y_ph: Y_test}) \n",
    "    conf_mat = sess.run([conf_matrix ], feed_dict={X_ph: X_test, Y_ph: Y_test})\n",
    "    print(conf_mat[0])"
   ]
  },
  {
   "cell_type": "code",
   "execution_count": 245,
   "metadata": {},
   "outputs": [
    {
     "name": "stdout",
     "output_type": "stream",
     "text": [
      "(12288, 200), (?, 12288)\n"
     ]
    }
   ],
   "source": [
    "Vp = conf_mat[0][0][0] \n",
    "Fn = conf_mat[0][0][1]\n",
    "Fp = conf_mat[0][1][0]\n",
    "Vn = conf_mat[0][1][1]\n",
    "print('{}, {}'.format(weight_1.shape, X_ph.shape))"
   ]
  },
  {
   "cell_type": "code",
   "execution_count": 267,
   "metadata": {},
   "outputs": [
    {
     "name": "stdout",
     "output_type": "stream",
     "text": [
      "Esta etiquetado como un: gato\n",
      "Lo predice como un como un: gato\n"
     ]
    },
    {
     "data": {
      "image/png": "[encoded data removed]",
      "text/plain": [
       "<Figure size 432x288 with 1 Axes>"
      ]
     },
     "metadata": {},
     "output_type": "display_data"
    }
   ],
   "source": [
    "index = 53\n",
    "img = X_test[index][0:colmns];\n",
    "img_reshape = img.reshape([64,64,3])\n",
    "#m2 = im2.T;\n",
    "plt.imshow(img_reshape)\n",
    "plt.xticks([]), plt.yticks([])  # to hide tick values on X and Y axis\n",
    "if(np.argmax(Y_test[index]) == 1):\n",
    "    etiqueta = 'gato'\n",
    "else: \n",
    "    etiqueta = 'no gato'\n",
    "\n",
    "if(predice[0][index] == 1):\n",
    "    res = 'gato'\n",
    "else: \n",
    "    res = 'no gato'\n",
    "    \n",
    "print('Esta etiquetado como un: {}'.format(etiqueta))\n",
    "print('Lo predice como un como un: {}'.format(res))"
   ]
  },
  {
   "cell_type": "code",
   "execution_count": 247,
   "metadata": {},
   "outputs": [
    {
     "data": {
      "text/plain": [
       "Text(0.5, 257.44, 'No_gatos    -    gatos')"
      ]
     },
     "execution_count": 247,
     "metadata": {},
     "output_type": "execute_result"
    },
    {
     "data": {
      "image/png": "[encoded data removed]",
      "text/plain": [
       "<Figure size 432x288 with 2 Axes>"
      ]
     },
     "metadata": {
      "needs_background": "light"
     },
     "output_type": "display_data"
    }
   ],
   "source": [
    "### class_name = [0, 1]\n",
    "class_labels = ['no gatos','gatos']\n",
    "fig, ax = plt.subplots()\n",
    "tick_marks = np.arange(len(class_labels))\n",
    "plt.xticks(tick_marks, class_labels)\n",
    "plt.yticks(tick_marks, class_labels)\n",
    "\n",
    "sns.heatmap(pd.DataFrame(conf_mat[0]), cmap=\"BuPu\", annot=False,\n",
    "            fmt='d', linewidths=1 ,annot_kws={\"size\": 20})\n",
    "ax.xaxis.set_label_position('top')\n",
    "plt.tight_layout()\n",
    "plt.title('Matriz de confusion')\n",
    "plt.ylabel('gatos    -    NO_gatos')\n",
    "plt.xlabel('No_gatos    -    gatos')"
   ]
  },
  {
   "cell_type": "code",
   "execution_count": 248,
   "metadata": {},
   "outputs": [
    {
     "name": "stdout",
     "output_type": "stream",
     "text": [
      "Positivos: 471, Negativos: 832.\n"
     ]
    }
   ],
   "source": [
    "positive = Vp + Fn\n",
    "negative = Fp + Vn\n",
    "print(\"Positivos: {}, Negativos: {}.\".format(positive, negative))"
   ]
  },
  {
   "cell_type": "code",
   "execution_count": 249,
   "metadata": {},
   "outputs": [
    {
     "name": "stdout",
     "output_type": "stream",
     "text": [
      "Predichos Positivos: 497, Predichos Negativos: 806.\n"
     ]
    }
   ],
   "source": [
    "pred_positive = Vp + Fp\n",
    "pred_negative = Vn + Fn\n",
    "print(\"Predichos Positivos: {}, Predichos Negativos: {}.\".format(pred_positive, pred_negative))"
   ]
  },
  {
   "cell_type": "code",
   "execution_count": 250,
   "metadata": {},
   "outputs": [
    {
     "name": "stdout",
     "output_type": "stream",
     "text": [
      "Accuracy: 90.6370%, Error Rate: 9.3630%, Sensibility: 85.1107%, Specificity: 94.0447%.\n"
     ]
    }
   ],
   "source": [
    "mtx_total = positive + negative\n",
    "mtx_accuracy = ((Vp + Vn)/mtx_total) * 100\n",
    "mtx_error_rate = ((Fp + Fn)/mtx_total) * 100\n",
    "mtx_sensibility = (Vp/pred_positive) * 100\n",
    "mtx_specificity = (Vn/pred_negative) * 100\n",
    "print(\"Accuracy: {:.4f}%, Error Rate: {:.4f}%, Sensibility: {:.4f}%, Specificity: {:.4f}%.\"\n",
    "      .format(mtx_accuracy, mtx_error_rate, mtx_sensibility, mtx_specificity))"
   ]
  },
  {
   "cell_type": "code",
   "execution_count": 251,
   "metadata": {},
   "outputs": [
    {
     "name": "stdout",
     "output_type": "stream",
     "text": [
      "Precision: 89.81%, Prediction: 91.11%\n"
     ]
    }
   ],
   "source": [
    "mtx_precision = (Vp/positive) * 100 \n",
    "mtx_vpn = (Vn/negative) * 100\n",
    "print(\"Precision: {:.2f}%, Prediction: {:.2f}%\".format(mtx_precision, mtx_vpn))"
   ]
  },
  {
   "cell_type": "code",
   "execution_count": null,
   "metadata": {},
   "outputs": [],
   "source": []
  },
  {
   "cell_type": "code",
   "execution_count": null,
   "metadata": {},
   "outputs": [],
   "source": []
  },
  {
   "cell_type": "code",
   "execution_count": null,
   "metadata": {},
   "outputs": [],
   "source": []
  },
  {
   "cell_type": "code",
   "execution_count": null,
   "metadata": {},
   "outputs": [],
   "source": []
  },
  {
   "cell_type": "code",
   "execution_count": null,
   "metadata": {},
   "outputs": [],
   "source": []
  }
 ],
 "metadata": {
  "kernelspec": {
   "display_name": "Python 3",
   "language": "python",
   "name": "python3"
  },
  "language_info": {
   "codemirror_mode": {
    "name": "ipython",
    "version": 3
   },
   "file_extension": ".py",
   "mimetype": "text/x-python",
   "name": "python",
   "nbconvert_exporter": "python",
   "pygments_lexer": "ipython3",
   "version": "3.7.4"
  }
 },
 "nbformat": 4,
 "nbformat_minor": 2
}
