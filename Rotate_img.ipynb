{
 "cells": [
  {
   "cell_type": "code",
   "execution_count": 13,
   "metadata": {},
   "outputs": [],
   "source": [
    "from PIL import Image\n",
    "import numpy as np\n",
    "import matplotlib.pyplot as plt\n",
    "import pickle\n",
    "#import pandas as pd\n",
    "#import tensorflow as tf\n",
    "import cv2 as cv\n",
    "import os\n",
    "%matplotlib inline\n",
    "#import glob\n",
    "from skimage import data, io, filters\n",
    "import skimage"
   ]
  },
  {
   "cell_type": "code",
   "execution_count": 14,
   "metadata": {},
   "outputs": [],
   "source": [
    "flip = 180\n",
    "ruta = 'dataset/data.pckl'\n",
    "File = open(ruta, 'rb')\n",
    "dat_X = pickle.load(File)\n",
    "dat_Y = pickle.load(File)\n",
    "File.close()\n",
    "del(File)"
   ]
  },
  {
   "cell_type": "code",
   "execution_count": 15,
   "metadata": {},
   "outputs": [
    {
     "name": "stdout",
     "output_type": "stream",
     "text": [
      "Dimensión de X (259, 64, 64, 3)\n",
      "Dimensión de Y (259, 1)\n"
     ]
    }
   ],
   "source": [
    "Xt = dat_X.tolist()\n",
    "Yt = dat_Y.tolist()\n",
    "print(\"Dimensión de X {}\".format(dat_X.shape))\n",
    "print(\"Dimensión de Y {}\".format(dat_Y.shape))"
   ]
  },
  {
   "cell_type": "code",
   "execution_count": 16,
   "metadata": {},
   "outputs": [],
   "source": [
    "#ima = Image.open(\"images/1 (1).jpg\")\n",
    "#girada1 = ima.rotate(180)\n",
    "#girada1.save(\"images/1 (2).jpg\")\n",
    "#img = cv.imread('images/1 (2).jpg',3)\n",
    "#img=cv.cvtColor(img, cv.COLOR_BGR2RGB)\n",
    "#ima=cv.resize(img,(64,64))\n",
    "#Xt.append(ima)\n",
    "#plt.imshow(ima)"
   ]
  },
  {
   "cell_type": "code",
   "execution_count": 17,
   "metadata": {},
   "outputs": [],
   "source": [
    "intro_real = 'images/no_gatos/2 ('\n",
    "ext=').jpg'\n",
    "n_img = 1000\n",
    "for cont_imgs in range(n_img):\n",
    "    name = intro_real + str(cont_imgs+1) + ext\n",
    "    ima = Image.open(name)\n",
    "    rotate = ima.rotate(flip)\n",
    "    new_root = intro_real + str(cont_imgs+n_img) + ext \n",
    "    rotate.save(new_root)\n",
    "    # Cargando imagenes rotadas\n",
    "    img = cv.imread(new_root,3)\n",
    "    img = cv.cvtColor(img, cv.COLOR_BGR2RGB)\n",
    "    ima = cv.resize(img,(64,64))\n",
    "    t=[0]\n",
    "    Xt.append(ima)\n",
    "    Yt.append(t)"
   ]
  },
  {
   "cell_type": "code",
   "execution_count": 18,
   "metadata": {},
   "outputs": [],
   "source": [
    "dat_X = np.array(Xt)\n",
    "dat_Y = np.array(Yt)"
   ]
  },
  {
   "cell_type": "code",
   "execution_count": 19,
   "metadata": {},
   "outputs": [
    {
     "name": "stdout",
     "output_type": "stream",
     "text": [
      "Dimensión de X (1259, 64, 64, 3)\n",
      "Dimensión de Y (1259, 1)\n"
     ]
    }
   ],
   "source": [
    "print(\"Dimensión de X {}\".format(dat_X.shape))\n",
    "print(\"Dimensión de Y {}\".format(dat_Y.shape))"
   ]
  },
  {
   "cell_type": "code",
   "execution_count": 180,
   "metadata": {},
   "outputs": [],
   "source": [
    "intro_real = 'images/gatos/1 ('\n",
    "ext=').jpg'\n",
    "n_img = 919\n",
    "for cont_imgs in range(n_img):\n",
    "    name = intro_real + str(cont_imgs+1) + ext\n",
    "    ima = Image.open(name)\n",
    "    rotate = ima.rotate(flip)\n",
    "    new_root = intro_real + str(cont_imgs+n_img) + ext \n",
    "    rotate.save(new_root)\n",
    "    # Cargando imagenes rotadas\n",
    "    img = cv.imread(new_root,3)\n",
    "    img = cv.cvtColor(img, cv.COLOR_BGR2RGB)\n",
    "    ima = cv.resize(img,(64,64))\n",
    "    t=[1]\n",
    "    Xt.append(ima)\n",
    "    Yt.append(t)"
   ]
  },
  {
   "cell_type": "code",
   "execution_count": 181,
   "metadata": {},
   "outputs": [
    {
     "name": "stdout",
     "output_type": "stream",
     "text": [
      "Dimensión de X (4147, 64, 64, 3)\n",
      "Dimensión de Y (4147, 1)\n"
     ]
    }
   ],
   "source": [
    "dat_X = np.array(Xt)\n",
    "dat_Y = np.array(Yt)\n",
    "print(\"Dimensión de X {}\".format(dat_X.shape))\n",
    "print(\"Dimensión de Y {}\".format(dat_Y.shape))"
   ]
  },
  {
   "cell_type": "markdown",
   "metadata": {},
   "source": [
    "# Add Images"
   ]
  },
  {
   "cell_type": "code",
   "execution_count": 16,
   "metadata": {},
   "outputs": [],
   "source": [
    "intro_prim = 'images/autosycomida/1 ('\n",
    "intro_segun = 'images/no_gatos/2 ('\n",
    "ext_uno='.jpg'\n",
    "ext_dos=').jpg'\n",
    "n_img = 199\n",
    "start = 5069\n",
    "flip = 360\n",
    "for cont_imgs in range(n_img):\n",
    "    name = intro_prim + str(cont_imgs) + ext_dos\n",
    "    ima = Image.open(name)\n",
    "    rotate = ima.rotate(flip)\n",
    "    new_root = intro_segun + str(start+cont_imgs) + ext_dos\n",
    "    #ima.save(new_root)\n",
    "    rotate.convert('RGB').save(new_root)\n",
    "    #rotate.save(new_root)\n",
    "    # Cargando imagenes rotadas\n",
    "    img = cv.imread(new_root,3)\n",
    "    img = cv.cvtColor(img, cv.COLOR_BGR2RGB)\n",
    "    ima = cv.resize(img,(64,64))\n",
    "    t=[0]\n",
    "    Xt.append(ima)\n",
    "    Yt.append(t)"
   ]
  },
  {
   "cell_type": "code",
   "execution_count": 17,
   "metadata": {},
   "outputs": [
    {
     "name": "stdout",
     "output_type": "stream",
     "text": [
      "Dimensión de X (458, 64, 64, 3)\n",
      "Dimensión de Y (458, 1)\n"
     ]
    }
   ],
   "source": [
    "dat_X = np.array(Xt)\n",
    "dat_Y = np.array(Yt)\n",
    "print(\"Dimensión de X {}\".format(dat_X.shape))\n",
    "print(\"Dimensión de Y {}\".format(dat_Y.shape))"
   ]
  },
  {
   "cell_type": "code",
   "execution_count": 6,
   "metadata": {},
   "outputs": [],
   "source": [
    "intro_prim = 'images/arabolyedificios/2('\n",
    "intro_segun = 'images/gatos/1 ('\n",
    "ext_uno='.jpg'\n",
    "ext_dos=').jpg'\n",
    "n_img = 4457\n",
    "start = 6501\n",
    "flip = 360\n",
    "for cont_imgs in range(n_img):\n",
    "    name = intro_prim + str(cont_imgs+start) + ext_dos\n",
    "    ima = Image.open(name)\n",
    "    rotate = ima.rotate(flip)\n",
    "    new_root = intro_segun + str(start+cont_imgs) + ext_dos\n",
    "    #ima.save(new_root)\n",
    "    rotate.convert('RGB').save(new_root)\n",
    "    #rotate.save(new_root)\n",
    "    # Cargando imagenes rotadas\n",
    "    img = cv.imread(new_root,3)\n",
    "    img = cv.cvtColor(img, cv.COLOR_BGR2RGB)\n",
    "    ima = cv.resize(img,(64,64))\n",
    "    t=[1]\n",
    "    Xt.append(ima)\n",
    "    Yt.append(t)"
   ]
  },
  {
   "cell_type": "code",
   "execution_count": 7,
   "metadata": {},
   "outputs": [
    {
     "name": "stdout",
     "output_type": "stream",
     "text": [
      "Dimensión de X (1260, 64, 64, 3)\n",
      "Dimensión de Y (1260, 1)\n"
     ]
    }
   ],
   "source": [
    "dat_X = np.array(Xt)\n",
    "dat_Y = np.array(Yt)\n",
    "print(\"Dimensión de X {}\".format(dat_X.shape))\n",
    "print(\"Dimensión de Y {}\".format(dat_Y.shape))"
   ]
  },
  {
   "cell_type": "code",
   "execution_count": null,
   "metadata": {},
   "outputs": [],
   "source": []
  }
 ],
 "metadata": {
  "kernelspec": {
   "display_name": "Python 3",
   "language": "python",
   "name": "python3"
  },
  "language_info": {
   "codemirror_mode": {
    "name": "ipython",
    "version": 3
   },
   "file_extension": ".py",
   "mimetype": "text/x-python",
   "name": "python",
   "nbconvert_exporter": "python",
   "pygments_lexer": "ipython3",
   "version": "3.7.4"
  }
 },
 "nbformat": 4,
 "nbformat_minor": 2
}
